{
  "nbformat": 4,
  "nbformat_minor": 0,
  "metadata": {
    "colab": {
      "provenance": [],
      "collapsed_sections": []
    },
    "kernelspec": {
      "name": "python3",
      "display_name": "Python 3"
    },
    "language_info": {
      "name": "python"
    }
  },
  "cells": [
    {
      "cell_type": "markdown",
      "source": [
        "Dari data yang diberikan, terdapat 5 dataset yang dipisahkan berdasarkan kota. Kota-kota tersebut adalah Jakarta, Bogor, Depok, Tangerang, dan Bekasi. Berikut adalah data-data yang diberikan."
      ],
      "metadata": {
        "id": "WQipWmenUu-n"
      }
    },
    {
      "cell_type": "code",
      "execution_count": 1,
      "metadata": {
        "colab": {
          "base_uri": "https://localhost:8080/"
        },
        "id": "T0vyXBrnUqBf",
        "outputId": "c743f0f0-9ed0-433e-db44-a9174dbb9e17"
      },
      "outputs": [
        {
          "output_type": "stream",
          "name": "stdout",
          "text": [
            "--2022-09-23 07:51:02--  https://raw.githubusercontent.com/taufiksutanto/ADM-Case-01-EDA/master/data/jakarta.csv\n",
            "Resolving raw.githubusercontent.com (raw.githubusercontent.com)... 185.199.108.133, 185.199.109.133, 185.199.110.133, ...\n",
            "Connecting to raw.githubusercontent.com (raw.githubusercontent.com)|185.199.108.133|:443... connected.\n",
            "HTTP request sent, awaiting response... 200 OK\n",
            "Length: 63832 (62K) [text/plain]\n",
            "Saving to: ‘data/jakarta.csv’\n",
            "\n",
            "jakarta.csv         100%[===================>]  62.34K  --.-KB/s    in 0.03s   \n",
            "\n",
            "2022-09-23 07:51:02 (2.11 MB/s) - ‘data/jakarta.csv’ saved [63832/63832]\n",
            "\n",
            "--2022-09-23 07:51:02--  https://raw.githubusercontent.com/taufiksutanto/ADM-Case-01-EDA/master/data/depok.csv\n",
            "Resolving raw.githubusercontent.com (raw.githubusercontent.com)... 185.199.110.133, 185.199.109.133, 185.199.111.133, ...\n",
            "Connecting to raw.githubusercontent.com (raw.githubusercontent.com)|185.199.110.133|:443... connected.\n",
            "HTTP request sent, awaiting response... 200 OK\n",
            "Length: 43191 (42K) [text/plain]\n",
            "Saving to: ‘data/depok.csv’\n",
            "\n",
            "depok.csv           100%[===================>]  42.18K  --.-KB/s    in 0.02s   \n",
            "\n",
            "2022-09-23 07:51:03 (1.67 MB/s) - ‘data/depok.csv’ saved [43191/43191]\n",
            "\n",
            "--2022-09-23 07:51:03--  https://raw.githubusercontent.com/taufiksutanto/ADM-Case-01-EDA/master/data/bogor.csv\n",
            "Resolving raw.githubusercontent.com (raw.githubusercontent.com)... 185.199.110.133, 185.199.111.133, 185.199.108.133, ...\n",
            "Connecting to raw.githubusercontent.com (raw.githubusercontent.com)|185.199.110.133|:443... connected.\n",
            "HTTP request sent, awaiting response... 200 OK\n",
            "Length: 68006 (66K) [text/plain]\n",
            "Saving to: ‘data/bogor.csv’\n",
            "\n",
            "bogor.csv           100%[===================>]  66.41K  --.-KB/s    in 0.03s   \n",
            "\n",
            "2022-09-23 07:51:03 (2.17 MB/s) - ‘data/bogor.csv’ saved [68006/68006]\n",
            "\n",
            "--2022-09-23 07:51:03--  https://raw.githubusercontent.com/taufiksutanto/ADM-Case-01-EDA/master/data/tangerang.csv\n",
            "Resolving raw.githubusercontent.com (raw.githubusercontent.com)... 185.199.111.133, 185.199.109.133, 185.199.108.133, ...\n",
            "Connecting to raw.githubusercontent.com (raw.githubusercontent.com)|185.199.111.133|:443... connected.\n",
            "HTTP request sent, awaiting response... 200 OK\n",
            "Length: 46485 (45K) [text/plain]\n",
            "Saving to: ‘data/tangerang.csv’\n",
            "\n",
            "tangerang.csv       100%[===================>]  45.40K  --.-KB/s    in 0.02s   \n",
            "\n",
            "2022-09-23 07:51:04 (1.80 MB/s) - ‘data/tangerang.csv’ saved [46485/46485]\n",
            "\n",
            "--2022-09-23 07:51:04--  https://raw.githubusercontent.com/taufiksutanto/ADM-Case-01-EDA/master/data/bekasi.csv\n",
            "Resolving raw.githubusercontent.com (raw.githubusercontent.com)... 185.199.108.133, 185.199.109.133, 185.199.110.133, ...\n",
            "Connecting to raw.githubusercontent.com (raw.githubusercontent.com)|185.199.108.133|:443... connected.\n",
            "HTTP request sent, awaiting response... 200 OK\n",
            "Length: 71038 (69K) [text/plain]\n",
            "Saving to: ‘data/bekasi.csv’\n",
            "\n",
            "bekasi.csv          100%[===================>]  69.37K  --.-KB/s    in 0.03s   \n",
            "\n",
            "2022-09-23 07:51:04 (2.19 MB/s) - ‘data/bekasi.csv’ saved [71038/71038]\n",
            "\n"
          ]
        }
      ],
      "source": [
        "# Loading Data:\n",
        "import pandas as pd\n",
        "\n",
        "try: # Running Locally, yakinkan \"file_\" berada di folder \"data\"\n",
        "    dfJ = pd.read_csv(\"data/jakarta.csv\", low_memory = False, encoding='utf8')\n",
        "    dfD = pd.read_csv(\"data/depok.csv\", low_memory = False, encoding='utf8')\n",
        "    dfB = pd.read_csv(\"data/bogor.csv\", low_memory = False, encoding='utf8')\n",
        "    dfT = pd.read_csv(\"data/tangerang.csv\", low_memory = False, encoding='utf8')\n",
        "    dfX = pd.read_csv(\"data/bekasi.csv\", low_memory = False, encoding='utf8')    \n",
        "except: # Running in Google Colab\n",
        "    !mkdir data\n",
        "    !wget -P data/ https://raw.githubusercontent.com/taufiksutanto/ADM-Case-01-EDA/master/data/jakarta.csv\n",
        "    !wget -P data/ https://raw.githubusercontent.com/taufiksutanto/ADM-Case-01-EDA/master/data/depok.csv\n",
        "    !wget -P data/ https://raw.githubusercontent.com/taufiksutanto/ADM-Case-01-EDA/master/data/bogor.csv\n",
        "    !wget -P data/ https://raw.githubusercontent.com/taufiksutanto/ADM-Case-01-EDA/master/data/tangerang.csv\n",
        "    !wget -P data/ https://raw.githubusercontent.com/taufiksutanto/ADM-Case-01-EDA/master/data/bekasi.csv\n",
        "    dfJ = pd.read_csv(\"data/jakarta.csv\", low_memory = False, encoding='utf8')\n",
        "    dfD = pd.read_csv(\"data/depok.csv\", low_memory = False, encoding='utf8')\n",
        "    dfB = pd.read_csv(\"data/bogor.csv\", low_memory = False, encoding='utf8')\n",
        "    dfT = pd.read_csv(\"data/tangerang.csv\", low_memory = False, encoding='utf8')\n",
        "    dfX = pd.read_csv(\"data/bekasi.csv\", low_memory = False, encoding='utf8')"
      ]
    },
    {
      "cell_type": "code",
      "source": [
        "dfJ.head().transpose()"
      ],
      "metadata": {
        "colab": {
          "base_uri": "https://localhost:8080/",
          "height": 1000
        },
        "id": "MXYtvP21Vqun",
        "outputId": "c55fef37-41ef-4430-edd1-0f3dd5ed7469"
      },
      "execution_count": 2,
      "outputs": [
        {
          "output_type": "execute_result",
          "data": {
            "text/plain": [
              "                                                             0  \\\n",
              "created_at                                          06-12-2021   \n",
              "LT                                                       202.0   \n",
              "LB                                                       198.0   \n",
              "KT                                                         8.0   \n",
              "KM                                                         3.0   \n",
              "garasi                                                     NaN   \n",
              "carport                                                    NaN   \n",
              "lokasi                                           Jakarta Pusat   \n",
              "sertifikat                                                 SHM   \n",
              "listrik                                                 2200.0   \n",
              "hadap                                                      NaN   \n",
              "harga                                             4500000000.0   \n",
              "URL          https://www.rumah.com/listing-properti/dijual-...   \n",
              "deskripsi    Dekat Cikini Salemba Taman Isamail Marzuki Kam...   \n",
              "Unnamed: 14                                                NaN   \n",
              "Unnamed: 15                                                NaN   \n",
              "Unnamed: 16                                                NaN   \n",
              "Unnamed: 17                                                NaN   \n",
              "Unnamed: 18                                                NaN   \n",
              "Unnamed: 19                                                NaN   \n",
              "Unnamed: 20                                                NaN   \n",
              "Unnamed: 21                                                NaN   \n",
              "Unnamed: 22                                                NaN   \n",
              "Unnamed: 23                                                NaN   \n",
              "Unnamed: 24                                                NaN   \n",
              "Unnamed: 25                                                NaN   \n",
              "\n",
              "                                                             1  \\\n",
              "created_at                                          02-12-2021   \n",
              "LT                                                        30.0   \n",
              "LB                                                        55.0   \n",
              "KT                                                         2.0   \n",
              "KM                                                         1.0   \n",
              "garasi                                                     NaN   \n",
              "carport                                                    1.0   \n",
              "lokasi                                           Jakarta Pusat   \n",
              "sertifikat                                                 SHM   \n",
              "listrik                                                 2200.0   \n",
              "hadap                                                      NaN   \n",
              "harga                                             1100000000.0   \n",
              "URL          https://www.rumah.com/listing-properti/dijual-...   \n",
              "deskripsi    Mengusung konsep minimalis, dan didukung denga...   \n",
              "Unnamed: 14                                                NaN   \n",
              "Unnamed: 15                                                NaN   \n",
              "Unnamed: 16                                                NaN   \n",
              "Unnamed: 17                                                NaN   \n",
              "Unnamed: 18                                                NaN   \n",
              "Unnamed: 19                                                NaN   \n",
              "Unnamed: 20                                                NaN   \n",
              "Unnamed: 21                                                NaN   \n",
              "Unnamed: 22                                                NaN   \n",
              "Unnamed: 23                                                NaN   \n",
              "Unnamed: 24                                                NaN   \n",
              "Unnamed: 25                                                NaN   \n",
              "\n",
              "                                                             2  \\\n",
              "created_at                                          06-12-2021   \n",
              "LT                                                        19.0   \n",
              "LB                                                        35.0   \n",
              "KT                                                         2.0   \n",
              "KM                                                         1.0   \n",
              "garasi                                                     NaN   \n",
              "carport                                                    NaN   \n",
              "lokasi                                           Jakarta Pusat   \n",
              "sertifikat                                                 SHM   \n",
              "listrik                                                 2200.0   \n",
              "hadap                                                      NaN   \n",
              "harga                                              395000000.0   \n",
              "URL          https://www.rumah.com/listing-properti/dijual-...   \n",
              "deskripsi    Dekat dengan Mall Atrium Senen, dekat dengan a...   \n",
              "Unnamed: 14                                                NaN   \n",
              "Unnamed: 15                                                NaN   \n",
              "Unnamed: 16                                                NaN   \n",
              "Unnamed: 17                                                NaN   \n",
              "Unnamed: 18                                                NaN   \n",
              "Unnamed: 19                                                NaN   \n",
              "Unnamed: 20                                                NaN   \n",
              "Unnamed: 21                                                NaN   \n",
              "Unnamed: 22                                                NaN   \n",
              "Unnamed: 23                                                NaN   \n",
              "Unnamed: 24                                                NaN   \n",
              "Unnamed: 25                                                NaN   \n",
              "\n",
              "                                                             3  \\\n",
              "created_at                                          06-12-2021   \n",
              "LT                                                        33.0   \n",
              "LB                                                        42.0   \n",
              "KT                                                         2.0   \n",
              "KM                                                         2.0   \n",
              "garasi                                                     NaN   \n",
              "carport                                                    1.0   \n",
              "lokasi                                           Jakarta Pusat   \n",
              "sertifikat                                                 SHM   \n",
              "listrik                                                 2200.0   \n",
              "hadap                                                      NaN   \n",
              "harga                                              835000000.0   \n",
              "URL          https://www.rumah.com/listing-properti/dijual-...   \n",
              "deskripsi    Berlokasi sangat strategis, sangat dekat ke Tu...   \n",
              "Unnamed: 14                                                NaN   \n",
              "Unnamed: 15                                                NaN   \n",
              "Unnamed: 16                                                NaN   \n",
              "Unnamed: 17                                                NaN   \n",
              "Unnamed: 18                                                NaN   \n",
              "Unnamed: 19                                                NaN   \n",
              "Unnamed: 20                                                NaN   \n",
              "Unnamed: 21                                                NaN   \n",
              "Unnamed: 22                                                NaN   \n",
              "Unnamed: 23                                                NaN   \n",
              "Unnamed: 24                                                NaN   \n",
              "Unnamed: 25                                                NaN   \n",
              "\n",
              "                                                             4  \n",
              "created_at                                          06-12-2021  \n",
              "LT                                                        30.0  \n",
              "LB                                                        55.0  \n",
              "KT                                                         2.0  \n",
              "KM                                                         2.0  \n",
              "garasi                                                     NaN  \n",
              "carport                                                    1.0  \n",
              "lokasi                                           Jakarta Pusat  \n",
              "sertifikat                                                 SHM  \n",
              "listrik                                                 2200.0  \n",
              "hadap                                                      NaN  \n",
              "harga                                             1100000000.0  \n",
              "URL          https://www.rumah.com/listing-properti/dijual-...  \n",
              "deskripsi    Bisa request ubah tata ruang, beli 2 unit mend...  \n",
              "Unnamed: 14                                                NaN  \n",
              "Unnamed: 15                                                NaN  \n",
              "Unnamed: 16                                                NaN  \n",
              "Unnamed: 17                                                NaN  \n",
              "Unnamed: 18                                                NaN  \n",
              "Unnamed: 19                                                NaN  \n",
              "Unnamed: 20                                                NaN  \n",
              "Unnamed: 21                                                NaN  \n",
              "Unnamed: 22                                                NaN  \n",
              "Unnamed: 23                                                NaN  \n",
              "Unnamed: 24                                                NaN  \n",
              "Unnamed: 25                                                NaN  "
            ],
            "text/html": [
              "\n",
              "  <div id=\"df-e02a990d-0c3f-4d8a-893b-3cd13f454ffc\">\n",
              "    <div class=\"colab-df-container\">\n",
              "      <div>\n",
              "<style scoped>\n",
              "    .dataframe tbody tr th:only-of-type {\n",
              "        vertical-align: middle;\n",
              "    }\n",
              "\n",
              "    .dataframe tbody tr th {\n",
              "        vertical-align: top;\n",
              "    }\n",
              "\n",
              "    .dataframe thead th {\n",
              "        text-align: right;\n",
              "    }\n",
              "</style>\n",
              "<table border=\"1\" class=\"dataframe\">\n",
              "  <thead>\n",
              "    <tr style=\"text-align: right;\">\n",
              "      <th></th>\n",
              "      <th>0</th>\n",
              "      <th>1</th>\n",
              "      <th>2</th>\n",
              "      <th>3</th>\n",
              "      <th>4</th>\n",
              "    </tr>\n",
              "  </thead>\n",
              "  <tbody>\n",
              "    <tr>\n",
              "      <th>created_at</th>\n",
              "      <td>06-12-2021</td>\n",
              "      <td>02-12-2021</td>\n",
              "      <td>06-12-2021</td>\n",
              "      <td>06-12-2021</td>\n",
              "      <td>06-12-2021</td>\n",
              "    </tr>\n",
              "    <tr>\n",
              "      <th>LT</th>\n",
              "      <td>202.0</td>\n",
              "      <td>30.0</td>\n",
              "      <td>19.0</td>\n",
              "      <td>33.0</td>\n",
              "      <td>30.0</td>\n",
              "    </tr>\n",
              "    <tr>\n",
              "      <th>LB</th>\n",
              "      <td>198.0</td>\n",
              "      <td>55.0</td>\n",
              "      <td>35.0</td>\n",
              "      <td>42.0</td>\n",
              "      <td>55.0</td>\n",
              "    </tr>\n",
              "    <tr>\n",
              "      <th>KT</th>\n",
              "      <td>8.0</td>\n",
              "      <td>2.0</td>\n",
              "      <td>2.0</td>\n",
              "      <td>2.0</td>\n",
              "      <td>2.0</td>\n",
              "    </tr>\n",
              "    <tr>\n",
              "      <th>KM</th>\n",
              "      <td>3.0</td>\n",
              "      <td>1.0</td>\n",
              "      <td>1.0</td>\n",
              "      <td>2.0</td>\n",
              "      <td>2.0</td>\n",
              "    </tr>\n",
              "    <tr>\n",
              "      <th>garasi</th>\n",
              "      <td>NaN</td>\n",
              "      <td>NaN</td>\n",
              "      <td>NaN</td>\n",
              "      <td>NaN</td>\n",
              "      <td>NaN</td>\n",
              "    </tr>\n",
              "    <tr>\n",
              "      <th>carport</th>\n",
              "      <td>NaN</td>\n",
              "      <td>1.0</td>\n",
              "      <td>NaN</td>\n",
              "      <td>1.0</td>\n",
              "      <td>1.0</td>\n",
              "    </tr>\n",
              "    <tr>\n",
              "      <th>lokasi</th>\n",
              "      <td>Jakarta Pusat</td>\n",
              "      <td>Jakarta Pusat</td>\n",
              "      <td>Jakarta Pusat</td>\n",
              "      <td>Jakarta Pusat</td>\n",
              "      <td>Jakarta Pusat</td>\n",
              "    </tr>\n",
              "    <tr>\n",
              "      <th>sertifikat</th>\n",
              "      <td>SHM</td>\n",
              "      <td>SHM</td>\n",
              "      <td>SHM</td>\n",
              "      <td>SHM</td>\n",
              "      <td>SHM</td>\n",
              "    </tr>\n",
              "    <tr>\n",
              "      <th>listrik</th>\n",
              "      <td>2200.0</td>\n",
              "      <td>2200.0</td>\n",
              "      <td>2200.0</td>\n",
              "      <td>2200.0</td>\n",
              "      <td>2200.0</td>\n",
              "    </tr>\n",
              "    <tr>\n",
              "      <th>hadap</th>\n",
              "      <td>NaN</td>\n",
              "      <td>NaN</td>\n",
              "      <td>NaN</td>\n",
              "      <td>NaN</td>\n",
              "      <td>NaN</td>\n",
              "    </tr>\n",
              "    <tr>\n",
              "      <th>harga</th>\n",
              "      <td>4500000000.0</td>\n",
              "      <td>1100000000.0</td>\n",
              "      <td>395000000.0</td>\n",
              "      <td>835000000.0</td>\n",
              "      <td>1100000000.0</td>\n",
              "    </tr>\n",
              "    <tr>\n",
              "      <th>URL</th>\n",
              "      <td>https://www.rumah.com/listing-properti/dijual-...</td>\n",
              "      <td>https://www.rumah.com/listing-properti/dijual-...</td>\n",
              "      <td>https://www.rumah.com/listing-properti/dijual-...</td>\n",
              "      <td>https://www.rumah.com/listing-properti/dijual-...</td>\n",
              "      <td>https://www.rumah.com/listing-properti/dijual-...</td>\n",
              "    </tr>\n",
              "    <tr>\n",
              "      <th>deskripsi</th>\n",
              "      <td>Dekat Cikini Salemba Taman Isamail Marzuki Kam...</td>\n",
              "      <td>Mengusung konsep minimalis, dan didukung denga...</td>\n",
              "      <td>Dekat dengan Mall Atrium Senen, dekat dengan a...</td>\n",
              "      <td>Berlokasi sangat strategis, sangat dekat ke Tu...</td>\n",
              "      <td>Bisa request ubah tata ruang, beli 2 unit mend...</td>\n",
              "    </tr>\n",
              "    <tr>\n",
              "      <th>Unnamed: 14</th>\n",
              "      <td>NaN</td>\n",
              "      <td>NaN</td>\n",
              "      <td>NaN</td>\n",
              "      <td>NaN</td>\n",
              "      <td>NaN</td>\n",
              "    </tr>\n",
              "    <tr>\n",
              "      <th>Unnamed: 15</th>\n",
              "      <td>NaN</td>\n",
              "      <td>NaN</td>\n",
              "      <td>NaN</td>\n",
              "      <td>NaN</td>\n",
              "      <td>NaN</td>\n",
              "    </tr>\n",
              "    <tr>\n",
              "      <th>Unnamed: 16</th>\n",
              "      <td>NaN</td>\n",
              "      <td>NaN</td>\n",
              "      <td>NaN</td>\n",
              "      <td>NaN</td>\n",
              "      <td>NaN</td>\n",
              "    </tr>\n",
              "    <tr>\n",
              "      <th>Unnamed: 17</th>\n",
              "      <td>NaN</td>\n",
              "      <td>NaN</td>\n",
              "      <td>NaN</td>\n",
              "      <td>NaN</td>\n",
              "      <td>NaN</td>\n",
              "    </tr>\n",
              "    <tr>\n",
              "      <th>Unnamed: 18</th>\n",
              "      <td>NaN</td>\n",
              "      <td>NaN</td>\n",
              "      <td>NaN</td>\n",
              "      <td>NaN</td>\n",
              "      <td>NaN</td>\n",
              "    </tr>\n",
              "    <tr>\n",
              "      <th>Unnamed: 19</th>\n",
              "      <td>NaN</td>\n",
              "      <td>NaN</td>\n",
              "      <td>NaN</td>\n",
              "      <td>NaN</td>\n",
              "      <td>NaN</td>\n",
              "    </tr>\n",
              "    <tr>\n",
              "      <th>Unnamed: 20</th>\n",
              "      <td>NaN</td>\n",
              "      <td>NaN</td>\n",
              "      <td>NaN</td>\n",
              "      <td>NaN</td>\n",
              "      <td>NaN</td>\n",
              "    </tr>\n",
              "    <tr>\n",
              "      <th>Unnamed: 21</th>\n",
              "      <td>NaN</td>\n",
              "      <td>NaN</td>\n",
              "      <td>NaN</td>\n",
              "      <td>NaN</td>\n",
              "      <td>NaN</td>\n",
              "    </tr>\n",
              "    <tr>\n",
              "      <th>Unnamed: 22</th>\n",
              "      <td>NaN</td>\n",
              "      <td>NaN</td>\n",
              "      <td>NaN</td>\n",
              "      <td>NaN</td>\n",
              "      <td>NaN</td>\n",
              "    </tr>\n",
              "    <tr>\n",
              "      <th>Unnamed: 23</th>\n",
              "      <td>NaN</td>\n",
              "      <td>NaN</td>\n",
              "      <td>NaN</td>\n",
              "      <td>NaN</td>\n",
              "      <td>NaN</td>\n",
              "    </tr>\n",
              "    <tr>\n",
              "      <th>Unnamed: 24</th>\n",
              "      <td>NaN</td>\n",
              "      <td>NaN</td>\n",
              "      <td>NaN</td>\n",
              "      <td>NaN</td>\n",
              "      <td>NaN</td>\n",
              "    </tr>\n",
              "    <tr>\n",
              "      <th>Unnamed: 25</th>\n",
              "      <td>NaN</td>\n",
              "      <td>NaN</td>\n",
              "      <td>NaN</td>\n",
              "      <td>NaN</td>\n",
              "      <td>NaN</td>\n",
              "    </tr>\n",
              "  </tbody>\n",
              "</table>\n",
              "</div>\n",
              "      <button class=\"colab-df-convert\" onclick=\"convertToInteractive('df-e02a990d-0c3f-4d8a-893b-3cd13f454ffc')\"\n",
              "              title=\"Convert this dataframe to an interactive table.\"\n",
              "              style=\"display:none;\">\n",
              "        \n",
              "  <svg xmlns=\"http://www.w3.org/2000/svg\" height=\"24px\"viewBox=\"0 0 24 24\"\n",
              "       width=\"24px\">\n",
              "    <path d=\"M0 0h24v24H0V0z\" fill=\"none\"/>\n",
              "    <path d=\"M18.56 5.44l.94 2.06.94-2.06 2.06-.94-2.06-.94-.94-2.06-.94 2.06-2.06.94zm-11 1L8.5 8.5l.94-2.06 2.06-.94-2.06-.94L8.5 2.5l-.94 2.06-2.06.94zm10 10l.94 2.06.94-2.06 2.06-.94-2.06-.94-.94-2.06-.94 2.06-2.06.94z\"/><path d=\"M17.41 7.96l-1.37-1.37c-.4-.4-.92-.59-1.43-.59-.52 0-1.04.2-1.43.59L10.3 9.45l-7.72 7.72c-.78.78-.78 2.05 0 2.83L4 21.41c.39.39.9.59 1.41.59.51 0 1.02-.2 1.41-.59l7.78-7.78 2.81-2.81c.8-.78.8-2.07 0-2.86zM5.41 20L4 18.59l7.72-7.72 1.47 1.35L5.41 20z\"/>\n",
              "  </svg>\n",
              "      </button>\n",
              "      \n",
              "  <style>\n",
              "    .colab-df-container {\n",
              "      display:flex;\n",
              "      flex-wrap:wrap;\n",
              "      gap: 12px;\n",
              "    }\n",
              "\n",
              "    .colab-df-convert {\n",
              "      background-color: #E8F0FE;\n",
              "      border: none;\n",
              "      border-radius: 50%;\n",
              "      cursor: pointer;\n",
              "      display: none;\n",
              "      fill: #1967D2;\n",
              "      height: 32px;\n",
              "      padding: 0 0 0 0;\n",
              "      width: 32px;\n",
              "    }\n",
              "\n",
              "    .colab-df-convert:hover {\n",
              "      background-color: #E2EBFA;\n",
              "      box-shadow: 0px 1px 2px rgba(60, 64, 67, 0.3), 0px 1px 3px 1px rgba(60, 64, 67, 0.15);\n",
              "      fill: #174EA6;\n",
              "    }\n",
              "\n",
              "    [theme=dark] .colab-df-convert {\n",
              "      background-color: #3B4455;\n",
              "      fill: #D2E3FC;\n",
              "    }\n",
              "\n",
              "    [theme=dark] .colab-df-convert:hover {\n",
              "      background-color: #434B5C;\n",
              "      box-shadow: 0px 1px 3px 1px rgba(0, 0, 0, 0.15);\n",
              "      filter: drop-shadow(0px 1px 2px rgba(0, 0, 0, 0.3));\n",
              "      fill: #FFFFFF;\n",
              "    }\n",
              "  </style>\n",
              "\n",
              "      <script>\n",
              "        const buttonEl =\n",
              "          document.querySelector('#df-e02a990d-0c3f-4d8a-893b-3cd13f454ffc button.colab-df-convert');\n",
              "        buttonEl.style.display =\n",
              "          google.colab.kernel.accessAllowed ? 'block' : 'none';\n",
              "\n",
              "        async function convertToInteractive(key) {\n",
              "          const element = document.querySelector('#df-e02a990d-0c3f-4d8a-893b-3cd13f454ffc');\n",
              "          const dataTable =\n",
              "            await google.colab.kernel.invokeFunction('convertToInteractive',\n",
              "                                                     [key], {});\n",
              "          if (!dataTable) return;\n",
              "\n",
              "          const docLinkHtml = 'Like what you see? Visit the ' +\n",
              "            '<a target=\"_blank\" href=https://colab.research.google.com/notebooks/data_table.ipynb>data table notebook</a>'\n",
              "            + ' to learn more about interactive tables.';\n",
              "          element.innerHTML = '';\n",
              "          dataTable['output_type'] = 'display_data';\n",
              "          await google.colab.output.renderOutput(dataTable, element);\n",
              "          const docLink = document.createElement('div');\n",
              "          docLink.innerHTML = docLinkHtml;\n",
              "          element.appendChild(docLink);\n",
              "        }\n",
              "      </script>\n",
              "    </div>\n",
              "  </div>\n",
              "  "
            ]
          },
          "metadata": {},
          "execution_count": 2
        }
      ]
    },
    {
      "cell_type": "markdown",
      "source": [
        "1. Kualitas Data dari Perushahaan"
      ],
      "metadata": {
        "id": "ODnAAnOqXYxu"
      }
    },
    {
      "cell_type": "markdown",
      "source": [
        "Dari data contoh yang kami tampilkan yaitu data kota Jakarta, terdapat beberapa kolom yang tidak diperlukan seperti Unnamed 14-23. Kolom-kolom ini dapat dihilangkan dari data untuk menghemat storage perusahaan tersebut. Selain itu, dibandingkan menyimpan data dari 5 file yang berbeda, disarankan untuk menyimpan data dalam 1 tabel yang sama, tetapi diberikan kode data tersebut berasal dari sheet yang mana. Hal ini, selain mempermudah dokumentasi,juga meningkatkan efisiensi dari suatu perusahaan. "
      ],
      "metadata": {
        "id": "eaSZHarsVjB4"
      }
    },
    {
      "cell_type": "code",
      "source": [
        "#\n",
        "\n",
        "#Jakarta\n",
        "dfJ_bersih=dfJ.transpose()[0:14]\n",
        "dfJ_bersih=dfJ_bersih.transpose()\n",
        "dfJ_bersih['kode']=\"Jakarta\"\n",
        "dfJ_bersih.head()\n",
        "\n",
        "#Depok\n",
        "dfD_bersih=dfD.transpose()[0:14]\n",
        "dfD_bersih=dfD_bersih.transpose()\n",
        "dfD_bersih['kode']=\"Depok\"\n",
        "dfD_bersih.head()\n",
        "\n",
        "#Bogor\n",
        "dfB_bersih=dfB.transpose()[0:14]\n",
        "dfB_bersih=dfB_bersih.transpose()\n",
        "dfB_bersih['kode']=\"Bogor\"\n",
        "dfB_bersih.head()\n",
        "\n",
        "#Tanggerang\n",
        "dfT_bersih=dfT.transpose()[0:14]\n",
        "dfT_bersih=dfT_bersih.transpose()\n",
        "dfT_bersih['kode']=\"Tanggerang\"\n",
        "dfT_bersih.head()\n",
        "\n",
        "#Bekasi\n",
        "dfX_bersih=dfX.transpose()[0:14]\n",
        "dfX_bersih=dfX_bersih.transpose()\n",
        "dfX_bersih['kode']=\"Bekasi\"\n",
        "dfX_bersih.head()"
      ],
      "metadata": {
        "colab": {
          "base_uri": "https://localhost:8080/",
          "height": 337
        },
        "id": "SlLY4DUgXFtM",
        "outputId": "398b08ac-954b-421c-bf73-4c49c3c95338"
      },
      "execution_count": 3,
      "outputs": [
        {
          "output_type": "execute_result",
          "data": {
            "text/plain": [
              "   created_at     LT     LB   KT   KM garasi carport            lokasi  \\\n",
              "0  08-12-2021   71.0   43.0  2.0  1.0    NaN     1.0  Kabupaten Bekasi   \n",
              "1  08-12-2021   59.0   60.0  2.0  1.0    NaN     1.0  Kabupaten Bekasi   \n",
              "2  08-12-2021  124.0   95.0  2.0  1.0    NaN     1.0  Kabupaten Bekasi   \n",
              "3  08-12-2021  144.0  100.0  2.0  1.0    NaN     1.0  Kabupaten Bekasi   \n",
              "4  08-12-2021  108.0  100.0  3.0  2.0    NaN     1.0  Kabupaten Bekasi   \n",
              "\n",
              "  sertifikat listrik    hadap         harga  \\\n",
              "0        SHM  1300.0      NaN   550000000.0   \n",
              "1        SHM     NaN      NaN   440000000.0   \n",
              "2        SHM     NaN      NaN   699000000.0   \n",
              "3        SHM  2200.0  Selatan  1350000000.0   \n",
              "4        SHM  2200.0    Timur  1400000000.0   \n",
              "\n",
              "                                                 URL  \\\n",
              "0  Rumah murah di metland cibitung bekasi - Dijua...   \n",
              "1  Rumah dijual di Griya gandasari cibitung - Dij...   \n",
              "2  Jual cepat rumah huuk di metland cibitung beka...   \n",
              "3  https://www.realoka.com/216243-rumah-rapi-siap...   \n",
              "4  https://www.realoka.com/207964-jual-rumah-bagu...   \n",
              "\n",
              "                                           deskripsi    kode  \n",
              "0  Selangkah ke stasiun krl telaga murni, Dekat d...  Bekasi  \n",
              "1  Rumah sangat nyaman,dan terbukti bebas banjir,...  Bekasi  \n",
              "2  Bebas banjir, Carport dan tanah luas ada taman...  Bekasi  \n",
              "3  (Harapan Indah) Cluster Aralia Kota Harapan In...  Bekasi  \n",
              "4  (Harapan Indah) Cluster Harmoni Perumahan Kota...  Bekasi  "
            ],
            "text/html": [
              "\n",
              "  <div id=\"df-64c47d0c-fa8f-42b9-8bd8-f841c6d624a5\">\n",
              "    <div class=\"colab-df-container\">\n",
              "      <div>\n",
              "<style scoped>\n",
              "    .dataframe tbody tr th:only-of-type {\n",
              "        vertical-align: middle;\n",
              "    }\n",
              "\n",
              "    .dataframe tbody tr th {\n",
              "        vertical-align: top;\n",
              "    }\n",
              "\n",
              "    .dataframe thead th {\n",
              "        text-align: right;\n",
              "    }\n",
              "</style>\n",
              "<table border=\"1\" class=\"dataframe\">\n",
              "  <thead>\n",
              "    <tr style=\"text-align: right;\">\n",
              "      <th></th>\n",
              "      <th>created_at</th>\n",
              "      <th>LT</th>\n",
              "      <th>LB</th>\n",
              "      <th>KT</th>\n",
              "      <th>KM</th>\n",
              "      <th>garasi</th>\n",
              "      <th>carport</th>\n",
              "      <th>lokasi</th>\n",
              "      <th>sertifikat</th>\n",
              "      <th>listrik</th>\n",
              "      <th>hadap</th>\n",
              "      <th>harga</th>\n",
              "      <th>URL</th>\n",
              "      <th>deskripsi</th>\n",
              "      <th>kode</th>\n",
              "    </tr>\n",
              "  </thead>\n",
              "  <tbody>\n",
              "    <tr>\n",
              "      <th>0</th>\n",
              "      <td>08-12-2021</td>\n",
              "      <td>71.0</td>\n",
              "      <td>43.0</td>\n",
              "      <td>2.0</td>\n",
              "      <td>1.0</td>\n",
              "      <td>NaN</td>\n",
              "      <td>1.0</td>\n",
              "      <td>Kabupaten Bekasi</td>\n",
              "      <td>SHM</td>\n",
              "      <td>1300.0</td>\n",
              "      <td>NaN</td>\n",
              "      <td>550000000.0</td>\n",
              "      <td>Rumah murah di metland cibitung bekasi - Dijua...</td>\n",
              "      <td>Selangkah ke stasiun krl telaga murni, Dekat d...</td>\n",
              "      <td>Bekasi</td>\n",
              "    </tr>\n",
              "    <tr>\n",
              "      <th>1</th>\n",
              "      <td>08-12-2021</td>\n",
              "      <td>59.0</td>\n",
              "      <td>60.0</td>\n",
              "      <td>2.0</td>\n",
              "      <td>1.0</td>\n",
              "      <td>NaN</td>\n",
              "      <td>1.0</td>\n",
              "      <td>Kabupaten Bekasi</td>\n",
              "      <td>SHM</td>\n",
              "      <td>NaN</td>\n",
              "      <td>NaN</td>\n",
              "      <td>440000000.0</td>\n",
              "      <td>Rumah dijual di Griya gandasari cibitung - Dij...</td>\n",
              "      <td>Rumah sangat nyaman,dan terbukti bebas banjir,...</td>\n",
              "      <td>Bekasi</td>\n",
              "    </tr>\n",
              "    <tr>\n",
              "      <th>2</th>\n",
              "      <td>08-12-2021</td>\n",
              "      <td>124.0</td>\n",
              "      <td>95.0</td>\n",
              "      <td>2.0</td>\n",
              "      <td>1.0</td>\n",
              "      <td>NaN</td>\n",
              "      <td>1.0</td>\n",
              "      <td>Kabupaten Bekasi</td>\n",
              "      <td>SHM</td>\n",
              "      <td>NaN</td>\n",
              "      <td>NaN</td>\n",
              "      <td>699000000.0</td>\n",
              "      <td>Jual cepat rumah huuk di metland cibitung beka...</td>\n",
              "      <td>Bebas banjir, Carport dan tanah luas ada taman...</td>\n",
              "      <td>Bekasi</td>\n",
              "    </tr>\n",
              "    <tr>\n",
              "      <th>3</th>\n",
              "      <td>08-12-2021</td>\n",
              "      <td>144.0</td>\n",
              "      <td>100.0</td>\n",
              "      <td>2.0</td>\n",
              "      <td>1.0</td>\n",
              "      <td>NaN</td>\n",
              "      <td>1.0</td>\n",
              "      <td>Kabupaten Bekasi</td>\n",
              "      <td>SHM</td>\n",
              "      <td>2200.0</td>\n",
              "      <td>Selatan</td>\n",
              "      <td>1350000000.0</td>\n",
              "      <td>https://www.realoka.com/216243-rumah-rapi-siap...</td>\n",
              "      <td>(Harapan Indah) Cluster Aralia Kota Harapan In...</td>\n",
              "      <td>Bekasi</td>\n",
              "    </tr>\n",
              "    <tr>\n",
              "      <th>4</th>\n",
              "      <td>08-12-2021</td>\n",
              "      <td>108.0</td>\n",
              "      <td>100.0</td>\n",
              "      <td>3.0</td>\n",
              "      <td>2.0</td>\n",
              "      <td>NaN</td>\n",
              "      <td>1.0</td>\n",
              "      <td>Kabupaten Bekasi</td>\n",
              "      <td>SHM</td>\n",
              "      <td>2200.0</td>\n",
              "      <td>Timur</td>\n",
              "      <td>1400000000.0</td>\n",
              "      <td>https://www.realoka.com/207964-jual-rumah-bagu...</td>\n",
              "      <td>(Harapan Indah) Cluster Harmoni Perumahan Kota...</td>\n",
              "      <td>Bekasi</td>\n",
              "    </tr>\n",
              "  </tbody>\n",
              "</table>\n",
              "</div>\n",
              "      <button class=\"colab-df-convert\" onclick=\"convertToInteractive('df-64c47d0c-fa8f-42b9-8bd8-f841c6d624a5')\"\n",
              "              title=\"Convert this dataframe to an interactive table.\"\n",
              "              style=\"display:none;\">\n",
              "        \n",
              "  <svg xmlns=\"http://www.w3.org/2000/svg\" height=\"24px\"viewBox=\"0 0 24 24\"\n",
              "       width=\"24px\">\n",
              "    <path d=\"M0 0h24v24H0V0z\" fill=\"none\"/>\n",
              "    <path d=\"M18.56 5.44l.94 2.06.94-2.06 2.06-.94-2.06-.94-.94-2.06-.94 2.06-2.06.94zm-11 1L8.5 8.5l.94-2.06 2.06-.94-2.06-.94L8.5 2.5l-.94 2.06-2.06.94zm10 10l.94 2.06.94-2.06 2.06-.94-2.06-.94-.94-2.06-.94 2.06-2.06.94z\"/><path d=\"M17.41 7.96l-1.37-1.37c-.4-.4-.92-.59-1.43-.59-.52 0-1.04.2-1.43.59L10.3 9.45l-7.72 7.72c-.78.78-.78 2.05 0 2.83L4 21.41c.39.39.9.59 1.41.59.51 0 1.02-.2 1.41-.59l7.78-7.78 2.81-2.81c.8-.78.8-2.07 0-2.86zM5.41 20L4 18.59l7.72-7.72 1.47 1.35L5.41 20z\"/>\n",
              "  </svg>\n",
              "      </button>\n",
              "      \n",
              "  <style>\n",
              "    .colab-df-container {\n",
              "      display:flex;\n",
              "      flex-wrap:wrap;\n",
              "      gap: 12px;\n",
              "    }\n",
              "\n",
              "    .colab-df-convert {\n",
              "      background-color: #E8F0FE;\n",
              "      border: none;\n",
              "      border-radius: 50%;\n",
              "      cursor: pointer;\n",
              "      display: none;\n",
              "      fill: #1967D2;\n",
              "      height: 32px;\n",
              "      padding: 0 0 0 0;\n",
              "      width: 32px;\n",
              "    }\n",
              "\n",
              "    .colab-df-convert:hover {\n",
              "      background-color: #E2EBFA;\n",
              "      box-shadow: 0px 1px 2px rgba(60, 64, 67, 0.3), 0px 1px 3px 1px rgba(60, 64, 67, 0.15);\n",
              "      fill: #174EA6;\n",
              "    }\n",
              "\n",
              "    [theme=dark] .colab-df-convert {\n",
              "      background-color: #3B4455;\n",
              "      fill: #D2E3FC;\n",
              "    }\n",
              "\n",
              "    [theme=dark] .colab-df-convert:hover {\n",
              "      background-color: #434B5C;\n",
              "      box-shadow: 0px 1px 3px 1px rgba(0, 0, 0, 0.15);\n",
              "      filter: drop-shadow(0px 1px 2px rgba(0, 0, 0, 0.3));\n",
              "      fill: #FFFFFF;\n",
              "    }\n",
              "  </style>\n",
              "\n",
              "      <script>\n",
              "        const buttonEl =\n",
              "          document.querySelector('#df-64c47d0c-fa8f-42b9-8bd8-f841c6d624a5 button.colab-df-convert');\n",
              "        buttonEl.style.display =\n",
              "          google.colab.kernel.accessAllowed ? 'block' : 'none';\n",
              "\n",
              "        async function convertToInteractive(key) {\n",
              "          const element = document.querySelector('#df-64c47d0c-fa8f-42b9-8bd8-f841c6d624a5');\n",
              "          const dataTable =\n",
              "            await google.colab.kernel.invokeFunction('convertToInteractive',\n",
              "                                                     [key], {});\n",
              "          if (!dataTable) return;\n",
              "\n",
              "          const docLinkHtml = 'Like what you see? Visit the ' +\n",
              "            '<a target=\"_blank\" href=https://colab.research.google.com/notebooks/data_table.ipynb>data table notebook</a>'\n",
              "            + ' to learn more about interactive tables.';\n",
              "          element.innerHTML = '';\n",
              "          dataTable['output_type'] = 'display_data';\n",
              "          await google.colab.output.renderOutput(dataTable, element);\n",
              "          const docLink = document.createElement('div');\n",
              "          docLink.innerHTML = docLinkHtml;\n",
              "          element.appendChild(docLink);\n",
              "        }\n",
              "      </script>\n",
              "    </div>\n",
              "  </div>\n",
              "  "
            ]
          },
          "metadata": {},
          "execution_count": 3
        }
      ]
    },
    {
      "cell_type": "code",
      "source": [
        "print(dfJ_bersih.duplicated().sum())\n",
        "print(dfB_bersih.duplicated().sum())\n",
        "print(dfD_bersih.duplicated().sum())\n",
        "print(dfT_bersih.duplicated().sum())\n",
        "print(dfX_bersih.duplicated().sum())"
      ],
      "metadata": {
        "colab": {
          "base_uri": "https://localhost:8080/"
        },
        "id": "a6JQcN4oXgGt",
        "outputId": "7844c4c7-c11e-48a1-dc23-5ff81e7f4084"
      },
      "execution_count": 4,
      "outputs": [
        {
          "output_type": "stream",
          "name": "stdout",
          "text": [
            "902\n",
            "805\n",
            "877\n",
            "3\n",
            "884\n"
          ]
        }
      ]
    },
    {
      "cell_type": "code",
      "source": [
        "dfJ_bersih.drop_duplicates(inplace=True)\n",
        "dfB_bersih.drop_duplicates(inplace=True)\n",
        "dfD_bersih.drop_duplicates(inplace=True)\n",
        "dfT_bersih.drop_duplicates(inplace=True)\n",
        "dfX_bersih.drop_duplicates(inplace=True)"
      ],
      "metadata": {
        "id": "v8a6B4H9Xi7P"
      },
      "execution_count": 5,
      "outputs": []
    },
    {
      "cell_type": "code",
      "source": [
        "dfJ_bersih.info()"
      ],
      "metadata": {
        "colab": {
          "base_uri": "https://localhost:8080/"
        },
        "id": "PoBKuYukXneZ",
        "outputId": "5d050845-5bd2-4cae-f2cf-284a8c1d01e1"
      },
      "execution_count": 6,
      "outputs": [
        {
          "output_type": "stream",
          "name": "stdout",
          "text": [
            "<class 'pandas.core.frame.DataFrame'>\n",
            "Int64Index: 122 entries, 0 to 121\n",
            "Data columns (total 15 columns):\n",
            " #   Column      Non-Null Count  Dtype \n",
            "---  ------      --------------  ----- \n",
            " 0   created_at  121 non-null    object\n",
            " 1   LT          121 non-null    object\n",
            " 2   LB          121 non-null    object\n",
            " 3   KT          121 non-null    object\n",
            " 4   KM          121 non-null    object\n",
            " 5   garasi      44 non-null     object\n",
            " 6   carport     90 non-null     object\n",
            " 7   lokasi      121 non-null    object\n",
            " 8   sertifikat  119 non-null    object\n",
            " 9   listrik     120 non-null    object\n",
            " 10  hadap       36 non-null     object\n",
            " 11  harga       121 non-null    object\n",
            " 12  URL         121 non-null    object\n",
            " 13  deskripsi   112 non-null    object\n",
            " 14  kode        122 non-null    object\n",
            "dtypes: object(15)\n",
            "memory usage: 15.2+ KB\n"
          ]
        }
      ]
    },
    {
      "cell_type": "code",
      "source": [
        "dfB_bersih.info()"
      ],
      "metadata": {
        "colab": {
          "base_uri": "https://localhost:8080/"
        },
        "id": "_5cVeY89XoxF",
        "outputId": "37518cac-20e4-49c7-ad8d-5cac1e2914be"
      },
      "execution_count": 7,
      "outputs": [
        {
          "output_type": "stream",
          "name": "stdout",
          "text": [
            "<class 'pandas.core.frame.DataFrame'>\n",
            "Int64Index: 194 entries, 0 to 193\n",
            "Data columns (total 15 columns):\n",
            " #   Column      Non-Null Count  Dtype \n",
            "---  ------      --------------  ----- \n",
            " 0   created_at  193 non-null    object\n",
            " 1   LT          193 non-null    object\n",
            " 2   LB          193 non-null    object\n",
            " 3   KT          193 non-null    object\n",
            " 4   KM          193 non-null    object\n",
            " 5   garasi      193 non-null    object\n",
            " 6   carport     193 non-null    object\n",
            " 7   lokasi      193 non-null    object\n",
            " 8   sertifikat  193 non-null    object\n",
            " 9   listrik     193 non-null    object\n",
            " 10  hadap       19 non-null     object\n",
            " 11  harga       193 non-null    object\n",
            " 12  URL         193 non-null    object\n",
            " 13  deskripsi   193 non-null    object\n",
            " 14  kode        194 non-null    object\n",
            "dtypes: object(15)\n",
            "memory usage: 24.2+ KB\n"
          ]
        }
      ]
    },
    {
      "cell_type": "code",
      "source": [
        "dfD_bersih.info()"
      ],
      "metadata": {
        "colab": {
          "base_uri": "https://localhost:8080/"
        },
        "id": "gYpNHUv_XtBx",
        "outputId": "6e8ee62f-8891-4cd8-dfae-f6ed6ae9e4ba"
      },
      "execution_count": 8,
      "outputs": [
        {
          "output_type": "stream",
          "name": "stdout",
          "text": [
            "<class 'pandas.core.frame.DataFrame'>\n",
            "Int64Index: 121 entries, 0 to 121\n",
            "Data columns (total 15 columns):\n",
            " #   Column      Non-Null Count  Dtype \n",
            "---  ------      --------------  ----- \n",
            " 0   created_at  119 non-null    object\n",
            " 1   LT          120 non-null    object\n",
            " 2   LB          118 non-null    object\n",
            " 3   KT          118 non-null    object\n",
            " 4   KM          118 non-null    object\n",
            " 5   garasi      25 non-null     object\n",
            " 6   carport     94 non-null     object\n",
            " 7   lokasi      118 non-null    object\n",
            " 8   sertifikat  118 non-null    object\n",
            " 9   listrik     103 non-null    object\n",
            " 10  hadap       62 non-null     object\n",
            " 11  harga       118 non-null    object\n",
            " 12  URL         118 non-null    object\n",
            " 13  deskripsi   118 non-null    object\n",
            " 14  kode        121 non-null    object\n",
            "dtypes: object(15)\n",
            "memory usage: 15.1+ KB\n"
          ]
        }
      ]
    },
    {
      "cell_type": "code",
      "source": [
        "dfT_bersih.info()"
      ],
      "metadata": {
        "colab": {
          "base_uri": "https://localhost:8080/"
        },
        "id": "1RCMvyuuXvbt",
        "outputId": "e313d773-9efd-4caa-8f14-792315eec455"
      },
      "execution_count": 9,
      "outputs": [
        {
          "output_type": "stream",
          "name": "stdout",
          "text": [
            "<class 'pandas.core.frame.DataFrame'>\n",
            "Int64Index: 125 entries, 0 to 124\n",
            "Data columns (total 15 columns):\n",
            " #   Column      Non-Null Count  Dtype \n",
            "---  ------      --------------  ----- \n",
            " 0   created_at  124 non-null    object\n",
            " 1   LT          124 non-null    object\n",
            " 2   LB          124 non-null    object\n",
            " 3   KT          124 non-null    object\n",
            " 4   KM          124 non-null    object\n",
            " 5   garasi      38 non-null     object\n",
            " 6   carport     92 non-null     object\n",
            " 7   lokasi      124 non-null    object\n",
            " 8   sertifikat  122 non-null    object\n",
            " 9   listrik     111 non-null    object\n",
            " 10  hadap       49 non-null     object\n",
            " 11  harga       124 non-null    object\n",
            " 12  URL         124 non-null    object\n",
            " 13  deskripsi   124 non-null    object\n",
            " 14  kode        125 non-null    object\n",
            "dtypes: object(15)\n",
            "memory usage: 15.6+ KB\n"
          ]
        }
      ]
    },
    {
      "cell_type": "code",
      "source": [
        "dfX_bersih.info()"
      ],
      "metadata": {
        "colab": {
          "base_uri": "https://localhost:8080/"
        },
        "id": "X7XfBIfJXzA5",
        "outputId": "65ceb383-8e8d-4a01-d109-6ad07174af6d"
      },
      "execution_count": 10,
      "outputs": [
        {
          "output_type": "stream",
          "name": "stdout",
          "text": [
            "<class 'pandas.core.frame.DataFrame'>\n",
            "Int64Index: 108 entries, 0 to 107\n",
            "Data columns (total 15 columns):\n",
            " #   Column      Non-Null Count  Dtype \n",
            "---  ------      --------------  ----- \n",
            " 0   created_at  107 non-null    object\n",
            " 1   LT          107 non-null    object\n",
            " 2   LB          107 non-null    object\n",
            " 3   KT          107 non-null    object\n",
            " 4   KM          106 non-null    object\n",
            " 5   garasi      33 non-null     object\n",
            " 6   carport     81 non-null     object\n",
            " 7   lokasi      107 non-null    object\n",
            " 8   sertifikat  106 non-null    object\n",
            " 9   listrik     101 non-null    object\n",
            " 10  hadap       48 non-null     object\n",
            " 11  harga       107 non-null    object\n",
            " 12  URL         107 non-null    object\n",
            " 13  deskripsi   107 non-null    object\n",
            " 14  kode        108 non-null    object\n",
            "dtypes: object(15)\n",
            "memory usage: 13.5+ KB\n"
          ]
        }
      ]
    },
    {
      "cell_type": "code",
      "source": [
        "df_final=pd.concat([dfJ_bersih,dfB_bersih,dfD_bersih,dfT_bersih,dfX_bersih])\n",
        "df_final.head()\n",
        "df_final.info()"
      ],
      "metadata": {
        "colab": {
          "base_uri": "https://localhost:8080/"
        },
        "id": "QGwdDSgYX2IC",
        "outputId": "04c325a8-6add-431c-c54d-1546bdf9c9ae"
      },
      "execution_count": 11,
      "outputs": [
        {
          "output_type": "stream",
          "name": "stdout",
          "text": [
            "<class 'pandas.core.frame.DataFrame'>\n",
            "Int64Index: 670 entries, 0 to 107\n",
            "Data columns (total 15 columns):\n",
            " #   Column      Non-Null Count  Dtype \n",
            "---  ------      --------------  ----- \n",
            " 0   created_at  664 non-null    object\n",
            " 1   LT          665 non-null    object\n",
            " 2   LB          663 non-null    object\n",
            " 3   KT          663 non-null    object\n",
            " 4   KM          662 non-null    object\n",
            " 5   garasi      333 non-null    object\n",
            " 6   carport     550 non-null    object\n",
            " 7   lokasi      663 non-null    object\n",
            " 8   sertifikat  658 non-null    object\n",
            " 9   listrik     628 non-null    object\n",
            " 10  hadap       214 non-null    object\n",
            " 11  harga       663 non-null    object\n",
            " 12  URL         663 non-null    object\n",
            " 13  deskripsi   654 non-null    object\n",
            " 14  kode        670 non-null    object\n",
            "dtypes: object(15)\n",
            "memory usage: 83.8+ KB\n"
          ]
        }
      ]
    },
    {
      "cell_type": "markdown",
      "source": [
        "Pertama-tama, pada saat data digabungkan, ditambahkan variabel kode untuk memberikan tanda dari mana data tersebut berasal. Selain itu juga, dari data diatas, setelah digabungkan terlihat banyak data yang duplikat (karena kosong) sehingga perlu dihilangkan dari data. Setelah digabungkan juga dapat terlihat bahwa missing value dari variabel garasi dan hadap sangatlah besar (lebih dari 50%), sehingga kedua variabel ini dihilangkan dari tabel. "
      ],
      "metadata": {
        "id": "eWioydtpX3kc"
      }
    },
    {
      "cell_type": "code",
      "source": [
        "df_final.drop(\"hadap\",axis=1,inplace=True)\n",
        "df_final.drop(\"garasi\",axis=1,inplace=True)\n",
        "df_final.dropna(inplace=True)\n"
      ],
      "metadata": {
        "id": "hkCyK_GcYZgi"
      },
      "execution_count": 12,
      "outputs": []
    },
    {
      "cell_type": "code",
      "source": [
        "df_final.info()"
      ],
      "metadata": {
        "colab": {
          "base_uri": "https://localhost:8080/"
        },
        "id": "fp3IhTEgYeWB",
        "outputId": "54dc61c9-172f-428e-b7ae-9968350d1bab"
      },
      "execution_count": 13,
      "outputs": [
        {
          "output_type": "stream",
          "name": "stdout",
          "text": [
            "<class 'pandas.core.frame.DataFrame'>\n",
            "Int64Index: 524 entries, 1 to 101\n",
            "Data columns (total 13 columns):\n",
            " #   Column      Non-Null Count  Dtype \n",
            "---  ------      --------------  ----- \n",
            " 0   created_at  524 non-null    object\n",
            " 1   LT          524 non-null    object\n",
            " 2   LB          524 non-null    object\n",
            " 3   KT          524 non-null    object\n",
            " 4   KM          524 non-null    object\n",
            " 5   carport     524 non-null    object\n",
            " 6   lokasi      524 non-null    object\n",
            " 7   sertifikat  524 non-null    object\n",
            " 8   listrik     524 non-null    object\n",
            " 9   harga       524 non-null    object\n",
            " 10  URL         524 non-null    object\n",
            " 11  deskripsi   524 non-null    object\n",
            " 12  kode        524 non-null    object\n",
            "dtypes: object(13)\n",
            "memory usage: 57.3+ KB\n"
          ]
        }
      ]
    },
    {
      "cell_type": "markdown",
      "source": [
        "Dari data ini, dapat dilihat bahwa Dtype semuanya adalah object, sehingga kurang baik untuk data tersebut. Akan diubah formatnya menjadi variabel-variabel yang dapat dihitung."
      ],
      "metadata": {
        "id": "sk_MyL1GYucc"
      }
    },
    {
      "cell_type": "code",
      "source": [
        "df_final['LT']=df_final['LT'].astype('int64')\n",
        "df_final['LB']=df_final['LB'].astype('int64')\n",
        "df_final['KT']=df_final['KT'].astype('int64')\n",
        "df_final['KM']=df_final['KM'].astype('int64')\n",
        "df_final['carport']=df_final['carport'].astype('int64')\n",
        "df_final['listrik']=df_final['listrik'].astype('int64')\n",
        "df_final['harga']=df_final['harga'].astype('int64')"
      ],
      "metadata": {
        "id": "RWfgLoeGYs99"
      },
      "execution_count": 14,
      "outputs": []
    },
    {
      "cell_type": "code",
      "source": [
        "df_final.describe()"
      ],
      "metadata": {
        "colab": {
          "base_uri": "https://localhost:8080/",
          "height": 300
        },
        "id": "wSC-BJDPZG85",
        "outputId": "d2ae7825-6a09-4809-d5b2-8f3e7581df52"
      },
      "execution_count": 15,
      "outputs": [
        {
          "output_type": "execute_result",
          "data": {
            "text/plain": [
              "                LT           LB          KT          KM     carport  \\\n",
              "count   524.000000   524.000000  524.000000  524.000000  524.000000   \n",
              "mean    163.486641   142.803435    3.114504    2.265267    1.473282   \n",
              "std     230.556733   177.727146    1.387688    1.407524    1.035347   \n",
              "min      30.000000    15.000000    1.000000    1.000000    0.000000   \n",
              "25%      69.250000    47.750000    2.000000    1.000000    1.000000   \n",
              "50%      90.000000    74.000000    3.000000    2.000000    1.000000   \n",
              "75%     160.000000   168.000000    4.000000    3.000000    2.000000   \n",
              "max    3422.000000  2000.000000   10.000000   10.000000   10.000000   \n",
              "\n",
              "            listrik         harga  \n",
              "count    524.000000  5.240000e+02  \n",
              "mean    2860.877863  2.276257e+09  \n",
              "std     4054.383648  7.946452e+09  \n",
              "min      900.000000  9.500000e+01  \n",
              "25%     1300.000000  2.550000e+03  \n",
              "50%     2200.000000  4.990000e+08  \n",
              "75%     2200.000000  1.326000e+09  \n",
              "max    66000.000000  1.050000e+11  "
            ],
            "text/html": [
              "\n",
              "  <div id=\"df-0f388b55-0d92-4d90-8ddf-2ee901a64edb\">\n",
              "    <div class=\"colab-df-container\">\n",
              "      <div>\n",
              "<style scoped>\n",
              "    .dataframe tbody tr th:only-of-type {\n",
              "        vertical-align: middle;\n",
              "    }\n",
              "\n",
              "    .dataframe tbody tr th {\n",
              "        vertical-align: top;\n",
              "    }\n",
              "\n",
              "    .dataframe thead th {\n",
              "        text-align: right;\n",
              "    }\n",
              "</style>\n",
              "<table border=\"1\" class=\"dataframe\">\n",
              "  <thead>\n",
              "    <tr style=\"text-align: right;\">\n",
              "      <th></th>\n",
              "      <th>LT</th>\n",
              "      <th>LB</th>\n",
              "      <th>KT</th>\n",
              "      <th>KM</th>\n",
              "      <th>carport</th>\n",
              "      <th>listrik</th>\n",
              "      <th>harga</th>\n",
              "    </tr>\n",
              "  </thead>\n",
              "  <tbody>\n",
              "    <tr>\n",
              "      <th>count</th>\n",
              "      <td>524.000000</td>\n",
              "      <td>524.000000</td>\n",
              "      <td>524.000000</td>\n",
              "      <td>524.000000</td>\n",
              "      <td>524.000000</td>\n",
              "      <td>524.000000</td>\n",
              "      <td>5.240000e+02</td>\n",
              "    </tr>\n",
              "    <tr>\n",
              "      <th>mean</th>\n",
              "      <td>163.486641</td>\n",
              "      <td>142.803435</td>\n",
              "      <td>3.114504</td>\n",
              "      <td>2.265267</td>\n",
              "      <td>1.473282</td>\n",
              "      <td>2860.877863</td>\n",
              "      <td>2.276257e+09</td>\n",
              "    </tr>\n",
              "    <tr>\n",
              "      <th>std</th>\n",
              "      <td>230.556733</td>\n",
              "      <td>177.727146</td>\n",
              "      <td>1.387688</td>\n",
              "      <td>1.407524</td>\n",
              "      <td>1.035347</td>\n",
              "      <td>4054.383648</td>\n",
              "      <td>7.946452e+09</td>\n",
              "    </tr>\n",
              "    <tr>\n",
              "      <th>min</th>\n",
              "      <td>30.000000</td>\n",
              "      <td>15.000000</td>\n",
              "      <td>1.000000</td>\n",
              "      <td>1.000000</td>\n",
              "      <td>0.000000</td>\n",
              "      <td>900.000000</td>\n",
              "      <td>9.500000e+01</td>\n",
              "    </tr>\n",
              "    <tr>\n",
              "      <th>25%</th>\n",
              "      <td>69.250000</td>\n",
              "      <td>47.750000</td>\n",
              "      <td>2.000000</td>\n",
              "      <td>1.000000</td>\n",
              "      <td>1.000000</td>\n",
              "      <td>1300.000000</td>\n",
              "      <td>2.550000e+03</td>\n",
              "    </tr>\n",
              "    <tr>\n",
              "      <th>50%</th>\n",
              "      <td>90.000000</td>\n",
              "      <td>74.000000</td>\n",
              "      <td>3.000000</td>\n",
              "      <td>2.000000</td>\n",
              "      <td>1.000000</td>\n",
              "      <td>2200.000000</td>\n",
              "      <td>4.990000e+08</td>\n",
              "    </tr>\n",
              "    <tr>\n",
              "      <th>75%</th>\n",
              "      <td>160.000000</td>\n",
              "      <td>168.000000</td>\n",
              "      <td>4.000000</td>\n",
              "      <td>3.000000</td>\n",
              "      <td>2.000000</td>\n",
              "      <td>2200.000000</td>\n",
              "      <td>1.326000e+09</td>\n",
              "    </tr>\n",
              "    <tr>\n",
              "      <th>max</th>\n",
              "      <td>3422.000000</td>\n",
              "      <td>2000.000000</td>\n",
              "      <td>10.000000</td>\n",
              "      <td>10.000000</td>\n",
              "      <td>10.000000</td>\n",
              "      <td>66000.000000</td>\n",
              "      <td>1.050000e+11</td>\n",
              "    </tr>\n",
              "  </tbody>\n",
              "</table>\n",
              "</div>\n",
              "      <button class=\"colab-df-convert\" onclick=\"convertToInteractive('df-0f388b55-0d92-4d90-8ddf-2ee901a64edb')\"\n",
              "              title=\"Convert this dataframe to an interactive table.\"\n",
              "              style=\"display:none;\">\n",
              "        \n",
              "  <svg xmlns=\"http://www.w3.org/2000/svg\" height=\"24px\"viewBox=\"0 0 24 24\"\n",
              "       width=\"24px\">\n",
              "    <path d=\"M0 0h24v24H0V0z\" fill=\"none\"/>\n",
              "    <path d=\"M18.56 5.44l.94 2.06.94-2.06 2.06-.94-2.06-.94-.94-2.06-.94 2.06-2.06.94zm-11 1L8.5 8.5l.94-2.06 2.06-.94-2.06-.94L8.5 2.5l-.94 2.06-2.06.94zm10 10l.94 2.06.94-2.06 2.06-.94-2.06-.94-.94-2.06-.94 2.06-2.06.94z\"/><path d=\"M17.41 7.96l-1.37-1.37c-.4-.4-.92-.59-1.43-.59-.52 0-1.04.2-1.43.59L10.3 9.45l-7.72 7.72c-.78.78-.78 2.05 0 2.83L4 21.41c.39.39.9.59 1.41.59.51 0 1.02-.2 1.41-.59l7.78-7.78 2.81-2.81c.8-.78.8-2.07 0-2.86zM5.41 20L4 18.59l7.72-7.72 1.47 1.35L5.41 20z\"/>\n",
              "  </svg>\n",
              "      </button>\n",
              "      \n",
              "  <style>\n",
              "    .colab-df-container {\n",
              "      display:flex;\n",
              "      flex-wrap:wrap;\n",
              "      gap: 12px;\n",
              "    }\n",
              "\n",
              "    .colab-df-convert {\n",
              "      background-color: #E8F0FE;\n",
              "      border: none;\n",
              "      border-radius: 50%;\n",
              "      cursor: pointer;\n",
              "      display: none;\n",
              "      fill: #1967D2;\n",
              "      height: 32px;\n",
              "      padding: 0 0 0 0;\n",
              "      width: 32px;\n",
              "    }\n",
              "\n",
              "    .colab-df-convert:hover {\n",
              "      background-color: #E2EBFA;\n",
              "      box-shadow: 0px 1px 2px rgba(60, 64, 67, 0.3), 0px 1px 3px 1px rgba(60, 64, 67, 0.15);\n",
              "      fill: #174EA6;\n",
              "    }\n",
              "\n",
              "    [theme=dark] .colab-df-convert {\n",
              "      background-color: #3B4455;\n",
              "      fill: #D2E3FC;\n",
              "    }\n",
              "\n",
              "    [theme=dark] .colab-df-convert:hover {\n",
              "      background-color: #434B5C;\n",
              "      box-shadow: 0px 1px 3px 1px rgba(0, 0, 0, 0.15);\n",
              "      filter: drop-shadow(0px 1px 2px rgba(0, 0, 0, 0.3));\n",
              "      fill: #FFFFFF;\n",
              "    }\n",
              "  </style>\n",
              "\n",
              "      <script>\n",
              "        const buttonEl =\n",
              "          document.querySelector('#df-0f388b55-0d92-4d90-8ddf-2ee901a64edb button.colab-df-convert');\n",
              "        buttonEl.style.display =\n",
              "          google.colab.kernel.accessAllowed ? 'block' : 'none';\n",
              "\n",
              "        async function convertToInteractive(key) {\n",
              "          const element = document.querySelector('#df-0f388b55-0d92-4d90-8ddf-2ee901a64edb');\n",
              "          const dataTable =\n",
              "            await google.colab.kernel.invokeFunction('convertToInteractive',\n",
              "                                                     [key], {});\n",
              "          if (!dataTable) return;\n",
              "\n",
              "          const docLinkHtml = 'Like what you see? Visit the ' +\n",
              "            '<a target=\"_blank\" href=https://colab.research.google.com/notebooks/data_table.ipynb>data table notebook</a>'\n",
              "            + ' to learn more about interactive tables.';\n",
              "          element.innerHTML = '';\n",
              "          dataTable['output_type'] = 'display_data';\n",
              "          await google.colab.output.renderOutput(dataTable, element);\n",
              "          const docLink = document.createElement('div');\n",
              "          docLink.innerHTML = docLinkHtml;\n",
              "          element.appendChild(docLink);\n",
              "        }\n",
              "      </script>\n",
              "    </div>\n",
              "  </div>\n",
              "  "
            ]
          },
          "metadata": {},
          "execution_count": 15
        }
      ]
    },
    {
      "cell_type": "markdown",
      "source": [
        "Dari statistika deskriptif ini dapat dilihat bahwa tidak terdapat data yang memiliki noise, sehingga data sudat dapat digunakan. "
      ],
      "metadata": {
        "id": "om6w5t96ZJuV"
      }
    },
    {
      "cell_type": "markdown",
      "source": [
        "2. Apakah ada saran perbaikan data ke DE/DBA perusahaan agar RPPI menjadi data driven company yang unggul."
      ],
      "metadata": {
        "id": "xQVrnxJeZvZ5"
      }
    },
    {
      "cell_type": "markdown",
      "source": [
        "Saran-saran yang dapat diberikan:\n",
        "\n",
        "- Berdasarkan poin diatas, akan lebih baik jika data yang ada dibentuk kedalam 1 tabel yang sama agar lebih mudah untuk dilakukan dokumentasi\n",
        "- Kolom-kolom yang tidak terpakai dapat dihilangkan agar dapat mengurangi penggunaan storage.\n",
        "- Terapat beberapa data mengenai penjualan, seperti kantor cabang yang melakukan penjualan, nama orang yang melakukan penjualan, harga tanah awal, dan lain-lain. \n",
        "- Dapat ditambah juga variabel yang dilengkapi, terkhusus informasi mengenai rumah (jumlah lantai, umur bangunan, kendaraan umum disekitar bangunan, dan lain-lain) \n",
        "- Dapat ditambahkan juga melalui media apa pembeli mengetahui mengenai real estate, sehingga RPPI dapat menghemat buget dan memilih platform mana aja yg dpt digunakan. \n",
        "\n"
      ],
      "metadata": {
        "id": "r7Ut1OiAZ1WA"
      }
    },
    {
      "cell_type": "markdown",
      "source": [
        "3. Dari data yang ada, apakah ada kecenderungan rumah disuatu kota lebih mahal/murah dibandingkan kota lain?"
      ],
      "metadata": {
        "id": "bpU4cjdEaG_S"
      }
    },
    {
      "cell_type": "code",
      "source": [
        "import seaborn as sns"
      ],
      "metadata": {
        "id": "LxP-X99caMpH"
      },
      "execution_count": 16,
      "outputs": []
    },
    {
      "cell_type": "code",
      "source": [
        "p= sns.catplot(x=\"kode\", y=\"harga\", data=df_final)"
      ],
      "metadata": {
        "colab": {
          "base_uri": "https://localhost:8080/",
          "height": 369
        },
        "id": "SeuQPSMUaUjv",
        "outputId": "d784b650-bc52-4662-abca-1406bf7cddb4"
      },
      "execution_count": 17,
      "outputs": [
        {
          "output_type": "display_data",
          "data": {
            "text/plain": [
              "<Figure size 360x360 with 1 Axes>"
            ],
            "image/png": "[encoded data removed]"
          },
          "metadata": {
            "needs_background": "light"
          }
        }
      ]
    },
    {
      "cell_type": "code",
      "source": [
        "import numpy as np\n",
        "ilangin_outlier = np.abs(df_final.harga - df_final.harga.mean())<=(2*df_final.harga.std())"
      ],
      "metadata": {
        "id": "npU-8ueTaY7A"
      },
      "execution_count": 18,
      "outputs": []
    },
    {
      "cell_type": "code",
      "source": [
        "df_final_tanpaoutlier = df_final[ilangin_outlier]"
      ],
      "metadata": {
        "id": "veu9umpFagm3"
      },
      "execution_count": 19,
      "outputs": []
    },
    {
      "cell_type": "code",
      "source": [
        "#harga tiap kota\n",
        "p= sns.catplot(x=\"kode\", y=\"harga\", data=df_final_tanpaoutlier)"
      ],
      "metadata": {
        "colab": {
          "base_uri": "https://localhost:8080/",
          "height": 369
        },
        "id": "jSwozQpAakli",
        "outputId": "0d67bc0f-2db5-41bd-d138-011de4cade84"
      },
      "execution_count": 20,
      "outputs": [
        {
          "output_type": "display_data",
          "data": {
            "text/plain": [
              "<Figure size 360x360 with 1 Axes>"
            ],
            "image/png": "[encoded data removed]"
          },
          "metadata": {
            "needs_background": "light"
          }
        }
      ]
    },
    {
      "cell_type": "markdown",
      "source": [
        "Dari plot diatas, dapat terlihat bahwa kecenderungan harga rumah yang cukup mahal ada di daerah Jakarta dan Bogor. Namun di Kota Jakarta, terdapat 1 harga rumah yang paling mahal (yang ditampilkan pada grafik sebelumnya) jika dibandingkan dengan Bogor. Untuk kedua daerah lainnya yaitu Depok dan Tangerang memiliki kecenderungan harga rumah yang lebih murang dibandingkan lainnya. \n"
      ],
      "metadata": {
        "id": "U033Hr3Qam5R"
      }
    },
    {
      "cell_type": "markdown",
      "source": [
        "4. Dari data yang ada, apakah bisa dibuar rekomendasi sebaiknya RPPI membuka kantor cabang dimana dan mengapa?"
      ],
      "metadata": {
        "id": "vZnrYlNBbT28"
      }
    },
    {
      "cell_type": "code",
      "source": [
        "#Kota\n",
        "axkota = sns.countplot(y = 'kode', palette = 'muted', data=df_final_tanpaoutlier)"
      ],
      "metadata": {
        "colab": {
          "base_uri": "https://localhost:8080/",
          "height": 279
        },
        "id": "EWhoDvwAbQ3W",
        "outputId": "7c7833dc-f7ba-43c3-8bc8-a87ad88c47fe"
      },
      "execution_count": 21,
      "outputs": [
        {
          "output_type": "display_data",
          "data": {
            "text/plain": [
              "<Figure size 432x288 with 1 Axes>"
            ],
            "image/png": "[encoded data removed]"
          },
          "metadata": {
            "needs_background": "light"
          }
        }
      ]
    },
    {
      "cell_type": "markdown",
      "source": [
        "Dari grafik diatas, dapat dilihat bahwa RPPI dapat membuka kantor cabang tambahan di Bogor. Hal ini dkarenakan penjualan di Bogor merupakan penjualan penjualan paling besar. Namun, untuk melihat seberapa banyak kantor cabang yang sudah ada di Bogor apakah mencukupi atau harus ditambah, beserta di kota lainnya, diperlukan data tambahan seperti nama kantor cabang yang sudah ada agar kita dapat melihat persebaran kantor cabang dan persentase penjualan per kantor cabang. "
      ],
      "metadata": {
        "id": "5HAjd0p-bbK1"
      }
    },
    {
      "cell_type": "markdown",
      "source": [
        "5. Rumah dengan karakteristik seperti apa yang paling banyak dijual"
      ],
      "metadata": {
        "id": "2VNBrNn8bvLI"
      }
    },
    {
      "cell_type": "code",
      "source": [
        "#jumlah kamar tidur\n",
        "axKT = sns.countplot(y = 'kode', hue = 'KT', palette = 'muted', data=df_final_tanpaoutlier)"
      ],
      "metadata": {
        "colab": {
          "base_uri": "https://localhost:8080/",
          "height": 279
        },
        "id": "OQ-jkqz-b3wz",
        "outputId": "ce76d435-8cae-44d8-8f45-a3152de0c47e"
      },
      "execution_count": 22,
      "outputs": [
        {
          "output_type": "display_data",
          "data": {
            "text/plain": [
              "<Figure size 432x288 with 1 Axes>"
            ],
            "image/png": "[encoded data removed]"
          },
          "metadata": {
            "needs_background": "light"
          }
        }
      ]
    },
    {
      "cell_type": "code",
      "source": [
        "#jumlah kamar mandi\n",
        "axKM = sns.countplot(y = 'kode', hue = 'KM', palette = 'muted', data=df_final_tanpaoutlier)"
      ],
      "metadata": {
        "colab": {
          "base_uri": "https://localhost:8080/",
          "height": 279
        },
        "id": "gnRek5VFb9iA",
        "outputId": "134e2cbe-da6b-4bdd-b85d-904b0c3b4337"
      },
      "execution_count": 23,
      "outputs": [
        {
          "output_type": "display_data",
          "data": {
            "text/plain": [
              "<Figure size 432x288 with 1 Axes>"
            ],
            "image/png": "[encoded data removed]"
          },
          "metadata": {
            "needs_background": "light"
          }
        }
      ]
    },
    {
      "cell_type": "code",
      "source": [
        "#Sertifikat\n",
        "axsertif = sns.countplot(y = 'kode', hue = 'sertifikat', palette = 'muted', data=df_final_tanpaoutlier)"
      ],
      "metadata": {
        "colab": {
          "base_uri": "https://localhost:8080/",
          "height": 279
        },
        "id": "Xdb-i0IjcEDE",
        "outputId": "09253757-b727-4182-e748-43221fc07e24"
      },
      "execution_count": 24,
      "outputs": [
        {
          "output_type": "display_data",
          "data": {
            "text/plain": [
              "<Figure size 432x288 with 1 Axes>"
            ],
            "image/png": "[encoded data removed]"
          },
          "metadata": {
            "needs_background": "light"
          }
        }
      ]
    },
    {
      "cell_type": "code",
      "source": [
        "#carport\n",
        "axcarport = sns.countplot(y = 'kode', hue = 'carport', palette = 'muted', data=df_final_tanpaoutlier)"
      ],
      "metadata": {
        "colab": {
          "base_uri": "https://localhost:8080/",
          "height": 279
        },
        "id": "HKR9NxRDcIYd",
        "outputId": "9c6ca4f2-5516-46c3-918e-de676ee7f4ed"
      },
      "execution_count": 25,
      "outputs": [
        {
          "output_type": "display_data",
          "data": {
            "text/plain": [
              "<Figure size 432x288 with 1 Axes>"
            ],
            "image/png": "[encoded data removed]"
          },
          "metadata": {
            "needs_background": "light"
          }
        }
      ]
    },
    {
      "cell_type": "code",
      "source": [
        "#listrik\n",
        "axlistrik = sns.countplot(y = 'kode', hue = 'listrik', palette = 'muted', data=df_final_tanpaoutlier)"
      ],
      "metadata": {
        "colab": {
          "base_uri": "https://localhost:8080/",
          "height": 324
        },
        "id": "6zS5LQ4ecOpO",
        "outputId": "f0843d6c-8aa7-49e4-b440-c2c3a196f632"
      },
      "execution_count": 26,
      "outputs": [
        {
          "output_type": "display_data",
          "data": {
            "text/plain": [
              "<Figure size 432x288 with 1 Axes>"
            ],
            "image/png": "[encoded data removed]"
          },
          "metadata": {
            "needs_background": "light"
          }
        }
      ]
    },
    {
      "cell_type": "markdown",
      "source": [
        "Dari grafik-grafik diatas, dapat disimpulkan beberapa hal sebagai berikut:\n",
        "- Untuk keseluruhan rumah diseluruh rumah, dapat dilihat bahwa rumah yang memiliki SHM lebih laku dijual dibandingkan rumah yang sertifikatnya bukan merupakan SHM. Hal ini dapat dilihat lebih jauh untuk harga-harga rumah yang dapat dijual apakah lebih mahal dibandingkan dengan rumah-rumah lainnya, agar dapat dilihat apakah rumah-rumah tersebut dapat memberikan keuntungan lebih. \n",
        "-Rumah yang banyak djual adalah rumah yang memiliki arus listrik antara 1300-2200, sehingga dapat dijadikn pertimbangan bahwa rumah menengah kebawah yg dpt digunakan. "
      ],
      "metadata": {
        "id": "IU-PqqNXcRkR"
      }
    }
  ]
}